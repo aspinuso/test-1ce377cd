{
 "cells": [
  {
   "cell_type": "markdown",
   "metadata": {},
   "source": [
    "## ICCLIM C4I Demo\n",
    "\n",
    "\n",
    "Example notebook that runs ICCLIM, which is pre-installed in the notebook.\n",
    "\n",
    "The example calculates the number of summer days (SU indicator) for the dataset chosen by the user on C4I\n",
    "\n",
    "\n",
    "### Preparation of the needed modules"
   ]
  },
  {
   "cell_type": "code",
   "execution_count": 1,
   "metadata": {},
   "outputs": [
    {
     "name": "stdout",
     "output_type": "stream",
     "text": [
      "python:  3.6.12 | packaged by conda-forge | (default, Dec  9 2020, 00:36:02) \n",
      "[GCC 9.3.0]\n",
      "numpy:  1.19.5\n",
      "netCDF4:  1.5.5.1\n",
      "matplotlib:  3.3.3\n"
     ]
    }
   ],
   "source": [
    "from icclim import icclim\n",
    "import numpy as np\n",
    "import netCDF4\n",
    "import matplotlib.pyplot as plt\n",
    "import matplotlib\n",
    "import sys\n",
    "import glob\n",
    "import os\n",
    "import datetime\n",
    "import cftime\n",
    "\n",
    "print(\"python: \",sys.version)\n",
    "print(\"numpy: \", np.__version__)\n",
    "print(\"netCDF4: \", netCDF4.__version__)\n",
    "print(\"matplotlib: \", matplotlib.__version__)"
   ]
  },
  {
   "cell_type": "markdown",
   "metadata": {},
   "source": [
    "### Specification of the parameters and period of interest"
   ]
  },
  {
   "cell_type": "code",
   "execution_count": 2,
   "metadata": {},
   "outputs": [
    {
     "name": "stderr",
     "output_type": "stream",
     "text": [
      "2021-01-11 13:10:50,258    ********************************************************************************************\n",
      "2021-01-11 13:10:50,259    *                                                                                          *\n",
      "2021-01-11 13:10:50,261    *          icclim                                                            V4.2.14       *\n",
      "2021-01-11 13:10:50,262    *                                                                                          *\n",
      "2021-01-11 13:10:50,263    *                                                                                          *\n",
      "2021-01-11 13:10:50,263    *          Mon Jan 11 13:10:50 2021 GMT                                                    *\n",
      "2021-01-11 13:10:50,265    *                                                                                          *\n",
      "2021-01-11 13:10:50,266    *          BEGIN EXECUTION                                                                 *\n",
      "2021-01-11 13:10:50,267    *                                                                                          *\n",
      "2021-01-11 13:10:50,267    ********************************************************************************************\n",
      "2021-01-11 13:10:53,291 Loading data: chunk 1/8 ...\n",
      "2021-01-11 13:11:09,714 Loading data: chunk 2/8 ...\n",
      "2021-01-11 13:11:28,967 Loading data: chunk 3/8 ...\n",
      "2021-01-11 13:11:47,773 Loading data: chunk 4/8 ...\n",
      "2021-01-11 13:11:57,545 Loading data: chunk 5/8 ...\n",
      "2021-01-11 13:12:06,384 Loading data: chunk 6/8 ...\n",
      "2021-01-11 13:12:15,353 Loading data: chunk 7/8 ...\n",
      "2021-01-11 13:12:24,229 Loading data: chunk 8/8 ...\n",
      "2021-01-11 13:12:32,817    ********************************************************************************************\n",
      "2021-01-11 13:12:32,818    *                                                                                          *\n",
      "2021-01-11 13:12:32,820    *          icclim                                                            V4.2.14       *\n",
      "2021-01-11 13:12:32,824    *                                                                                          *\n",
      "2021-01-11 13:12:32,827    *                                                                                          *\n",
      "2021-01-11 13:12:32,828    *          Mon Jan 11 13:12:32 2021 GMT                                                    *\n",
      "2021-01-11 13:12:32,829    *                                                                                          *\n",
      "2021-01-11 13:12:32,830    *          END EXECUTION                                                                   *\n",
      "2021-01-11 13:12:32,830    *                                                                                          *\n",
      "2021-01-11 13:12:32,831    *          CP SECS = 97.367                                                                *\n",
      "2021-01-11 13:12:32,833    *                                                                                          *\n",
      "2021-01-11 13:12:32,833    ********************************************************************************************\n"
     ]
    }
   ],
   "source": [
    "# studied period\n",
    "dt1 = datetime.datetime(2015,1,1)\n",
    "dt2 = datetime.datetime(2019,12,31)\n",
    "\n",
    "out_f = 'su_icclim.nc'\n",
    "filenames = glob.glob('./data/latest/tasmax_day*.nc')\n",
    "\n",
    "icclim.indice(indice_name='SU', in_files=filenames, var_name='tasmax', slice_mode='JJA', time_range=[dt1, dt2], transfer_limit_Mbytes=200, out_file=out_f)\n",
    "\n",
    "matplotlib.use('agg')\n",
    "\n",
    "nc = netCDF4.Dataset(out_f)\n",
    "\n",
    "time = nc.variables['time']\n",
    "var = nc.variables['SU']\n",
    "\n",
    "time = cftime.num2date(time[:], time.units, time.calendar)\n",
    "year_list = np.array([t.year for t in time])"
   ]
  },
  {
   "cell_type": "markdown",
   "metadata": {},
   "source": [
    "### Calculate spatial average"
   ]
  },
  {
   "cell_type": "code",
   "execution_count": 3,
   "metadata": {},
   "outputs": [
    {
     "name": "stdout",
     "output_type": "stream",
     "text": [
      "[26.02153  25.663391 25.628197 25.975288 26.046402]\n"
     ]
    }
   ],
   "source": [
    "var = np.reshape(var, (var.shape[0], -1))\n",
    "result = np.mean(var, axis=1)\n",
    "\n",
    "print(result)"
   ]
  },
  {
   "cell_type": "markdown",
   "metadata": {},
   "source": [
    "### Visualise the results"
   ]
  },
  {
   "cell_type": "code",
   "execution_count": 4,
   "metadata": {},
   "outputs": [
    {
     "data": {
      "image/png": "[encoded data removed]",
      "text/plain": [
       "<IPython.core.display.Image object>"
      ]
     },
     "execution_count": 4,
     "metadata": {},
     "output_type": "execute_result"
    }
   ],
   "source": [
    "\n",
    "plt.figure()\n",
    "\n",
    "plt.plot(year_list, result, label='SU')\n",
    "plt.legend()\n",
    "plt.xlabel('Year')\n",
    "plt.ylabel('Number')\n",
    "plt.grid()\n",
    "\n",
    "name_fig = \"su_icclim.png\"\n",
    "plt.savefig(\"./\"+name_fig)\n",
    "from IPython.display import Image\n",
    "Image(filename=\"./su_icclim.png\") "
   ]
  },
  {
   "cell_type": "markdown",
   "metadata": {},
   "source": []
  }
 ],
 "metadata": {
  "kernelspec": {
   "display_name": "Python 3",
   "language": "python",
   "name": "python3"
  },
  "language_info": {
   "codemirror_mode": {
    "name": "ipython",
    "version": 3
   },
   "file_extension": ".py",
   "mimetype": "text/x-python",
   "name": "python",
   "nbconvert_exporter": "python",
   "pygments_lexer": "ipython3",
   "version": "3.6.12"
  }
 },
 "nbformat": 4,
 "nbformat_minor": 4
}
